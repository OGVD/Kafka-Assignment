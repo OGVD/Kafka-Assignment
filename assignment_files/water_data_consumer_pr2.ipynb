{
 "cells": [
  {
   "cell_type": "code",
   "execution_count": 1,
   "id": "a8d88bef-d52c-4823-9202-a21ba4416fd9",
   "metadata": {},
   "outputs": [],
   "source": [
    "from kafka import KafkaConsumer\n",
    "import json\n",
    "import matplotlib.pyplot as plt\n",
    "import time"
   ]
  },
  {
   "cell_type": "code",
   "execution_count": 5,
   "id": "3015cc15-d615-4c64-8a4f-81348cd520cb",
   "metadata": {},
   "outputs": [],
   "source": [
    "# Initialize data storage for plotting\n",
    "timestamps = []\n",
    "water_temperatures = []\n",
    "ph_levels = []\n",
    "turbidities = []\n",
    "dissolved_oxygen_levels = []"
   ]
  },
  {
   "cell_type": "code",
   "execution_count": 2,
   "id": "17e20978-2cfe-4d38-a8ce-fb1abf9c0262",
   "metadata": {},
   "outputs": [],
   "source": [
    "# Kafka configuration\n",
    "def initialize_consumer():\n",
    "    kafka_topic = \"water_quality\"\n",
    "    kafka_bootstrap_servers = [\"localhost:9092\"]\n",
    "\n",
    "    # Create Kafka consumer\n",
    "    consumer = KafkaConsumer(\n",
    "        kafka_topic,\n",
    "        bootstrap_servers=kafka_bootstrap_servers,\n",
    "        value_deserializer=lambda m: json.loads(m.decode('utf-8')),\n",
    "        auto_offset_reset='latest',\n",
    "        enable_auto_commit=True\n",
    "    )\n",
    "    return consumer"
   ]
  },
  {
   "cell_type": "code",
   "execution_count": 3,
   "id": "30698277-1770-4cb0-92a7-95ffbb33bf9b",
   "metadata": {},
   "outputs": [],
   "source": [
    "# Receive all published messages and update plot\n",
    "def update_plot(consumer):\n",
    "    try:\n",
    "        for message in consumer:\n",
    "            # Parse the message\n",
    "            sensor_data = message.value\n",
    "            print(f\"Received: {sensor_data}\")\n",
    "\n",
    "            # Update data storage\n",
    "            timestamps.append(sensor_data['timestamp'])\n",
    "            water_temperatures.append(sensor_data['water_temperature'])\n",
    "            ph_levels.append(sensor_data['ph_level'])\n",
    "            turbidities.append(sensor_data['turbidity'])\n",
    "            dissolved_oxygen_levels.append(sensor_data['dissolved_oxygen'])\n",
    "\n",
    "            # Keep only the last 100 entries for plotting\n",
    "            if len(timestamps) > 100:\n",
    "                timestamps.pop(0)\n",
    "                water_temperatures.pop(0)\n",
    "                ph_levels.pop(0)\n",
    "                turbidities.pop(0)\n",
    "                dissolved_oxygen_levels.pop(0)\n",
    "\n",
    "            # Clear the current axes and redraw the plots\n",
    "            plt.figure(figsize=(10, 8))\n",
    "\n",
    "            plt.subplot(2, 2, 1)\n",
    "            plt.plot(timestamps, water_temperatures, label=\"Water Temperature\", color=\"blue\")\n",
    "            plt.title(\"Water Temperature\")\n",
    "            plt.ylabel(\"°C\")\n",
    "\n",
    "            plt.subplot(2, 2, 2)\n",
    "            plt.plot(timestamps, ph_levels, label=\"pH Level\", color=\"green\")\n",
    "            plt.title(\"pH Level\")\n",
    "            plt.ylabel(\"pH\")\n",
    "\n",
    "            plt.subplot(2, 2, 3)\n",
    "            plt.plot(timestamps, turbidities, label=\"Turbidity\", color=\"orange\")\n",
    "            plt.title(\"Turbidity\")\n",
    "            plt.ylabel(\"NTU\")\n",
    "\n",
    "            plt.subplot(2, 2, 4)\n",
    "            plt.plot(timestamps, dissolved_oxygen_levels, label=\"Dissolved Oxygen\", color=\"red\")\n",
    "            plt.title(\"Dissolved Oxygen\")\n",
    "            plt.ylabel(\"mg/L\")\n",
    "\n",
    "            plt.tight_layout()\n",
    "\n",
    "            # Save the plot as an image\n",
    "            plt.savefig(f\"water_quality_plot.png\")\n",
    "            plt.close()\n",
    "\n",
    "            break  # Process one message at a time\n",
    "    except KeyboardInterrupt:\n",
    "        print(\"Stopped consuming messages.\")\n",
    "        consumer.close()"
   ]
  },
  {
   "cell_type": "code",
   "execution_count": null,
   "id": "e7f2aeb6-f897-4a9f-a75f-a89b31bc0a58",
   "metadata": {},
   "outputs": [
    {
     "name": "stdout",
     "output_type": "stream",
     "text": [
      "Subscribed to Kafka topic 'water_quality'.\n",
      "Received: {'timestamp': 1736421122, 'water_temperature': 26.38055098120148, 'ph_level': 8.057112969540205, 'turbidity': 13.9, 'dissolved_oxygen': 6.45}\n",
      "Received: {'timestamp': 1736421127, 'water_temperature': 26.429848885812078, 'ph_level': 7.624881651283361, 'turbidity': 11.7, 'dissolved_oxygen': 6.57}\n",
      "Received: {'timestamp': 1736421132, 'water_temperature': 27.75093966215566, 'ph_level': 8.459510112536124, 'turbidity': 12.27, 'dissolved_oxygen': 8.14}\n",
      "Received: {'timestamp': 1736421137, 'water_temperature': 26.496794746797935, 'ph_level': 7.638518119603817, 'turbidity': 28.13, 'dissolved_oxygen': 7.16}\n",
      "Received: {'timestamp': 1736421142, 'water_temperature': 26.197449009873893, 'ph_level': 8.003490327846047, 'turbidity': 24.36, 'dissolved_oxygen': 7.91}\n",
      "Received: {'timestamp': 1736421147, 'water_temperature': 26.16639025888128, 'ph_level': 8.36526267280038, 'turbidity': 17.46, 'dissolved_oxygen': 8.19}\n",
      "Received: {'timestamp': 1736421152, 'water_temperature': 26.272493712714503, 'ph_level': 7.509580953015037, 'turbidity': 41.52, 'dissolved_oxygen': 9.99}\n",
      "Received: {'timestamp': 1736421157, 'water_temperature': 27.260371131515218, 'ph_level': 7.683534215330908, 'turbidity': 49.98, 'dissolved_oxygen': 8.44}\n",
      "Received: {'timestamp': 1736421162, 'water_temperature': 27.34387190781789, 'ph_level': 7.670573557987263, 'turbidity': 16.98, 'dissolved_oxygen': 8.77}\n",
      "Stopped consuming messages.\n"
     ]
    }
   ],
   "source": [
    "consumer = initialize_consumer()\n",
    "print(\"Subscribed to Kafka topic 'water_quality'.\")\n",
    "\n",
    "try:\n",
    "    while True:\n",
    "        update_plot(consumer)\n",
    "except KeyboardInterrupt:\n",
    "    print(\"Stopped visualization.\")\n",
    "    consumer.close()"
   ]
  }
 ],
 "metadata": {
  "kernelspec": {
   "display_name": "Python 3 (ipykernel)",
   "language": "python",
   "name": "python3"
  },
  "language_info": {
   "codemirror_mode": {
    "name": "ipython",
    "version": 3
   },
   "file_extension": ".py",
   "mimetype": "text/x-python",
   "name": "python",
   "nbconvert_exporter": "python",
   "pygments_lexer": "ipython3",
   "version": "3.10.12"
  }
 },
 "nbformat": 4,
 "nbformat_minor": 5
}
