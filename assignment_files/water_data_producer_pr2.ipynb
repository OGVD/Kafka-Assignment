{
 "cells": [
  {
   "cell_type": "code",
   "execution_count": 1,
   "id": "2f72557a-2f6f-477b-9e95-c137499f4fa1",
   "metadata": {},
   "outputs": [],
   "source": [
    "from kafka import KafkaProducer\n",
    "import json\n",
    "import time\n",
    "import random\n",
    "from math import cos, pi"
   ]
  },
  {
   "cell_type": "code",
   "execution_count": 2,
   "id": "ef78881f-cd93-42a9-86e6-66ff11815015",
   "metadata": {},
   "outputs": [],
   "source": [
    "def generate_sensor_data():\n",
    "    timestamp = int(time.time())\n",
    "\n",
    "    # Simulate IoT sensor data for water quality metrics with realistic patterns\n",
    "    water_temperature = random.uniform(1, 3) + round(20 + 5 * (1 + 0.5 * (1 + cos((timestamp % 86400) / 86400 * 2 * pi))), 2)\n",
    "    ph_level = random.uniform(0, 1) + round(7.5 + 0.2 * (1 + cos((timestamp % 86400) / 86400 * 2 * pi)), 2)\n",
    "    turbidity = round(random.uniform(5, 50), 2)  # Turbidity in NTU (Nephelometric Turbidity Units)\n",
    "    dissolved_oxygen = round(random.uniform(5, 12), 2)  # Dissolved Oxygen in mg/L\n",
    "\n",
    "    return {\n",
    "        \"timestamp\": timestamp,\n",
    "        \"water_temperature\": water_temperature,\n",
    "        \"ph_level\": ph_level,\n",
    "        \"turbidity\": turbidity,\n",
    "        \"dissolved_oxygen\": dissolved_oxygen\n",
    "    }"
   ]
  },
  {
   "cell_type": "code",
   "execution_count": 4,
   "id": "7ad3ddc4-b131-4141-8600-5d0a381c1afc",
   "metadata": {},
   "outputs": [
    {
     "name": "stdout",
     "output_type": "stream",
     "text": [
      "Producing messages to Kafka topic 'water_quality'...\n",
      "Sent: {'timestamp': 1736421122, 'water_temperature': 26.38055098120148, 'ph_level': 8.057112969540205, 'turbidity': 13.9, 'dissolved_oxygen': 6.45}\n",
      "Sent: {'timestamp': 1736421127, 'water_temperature': 26.429848885812078, 'ph_level': 7.624881651283361, 'turbidity': 11.7, 'dissolved_oxygen': 6.57}\n",
      "Sent: {'timestamp': 1736421132, 'water_temperature': 27.75093966215566, 'ph_level': 8.459510112536124, 'turbidity': 12.27, 'dissolved_oxygen': 8.14}\n",
      "Sent: {'timestamp': 1736421137, 'water_temperature': 26.496794746797935, 'ph_level': 7.638518119603817, 'turbidity': 28.13, 'dissolved_oxygen': 7.16}\n",
      "Sent: {'timestamp': 1736421142, 'water_temperature': 26.197449009873893, 'ph_level': 8.003490327846047, 'turbidity': 24.36, 'dissolved_oxygen': 7.91}\n",
      "Sent: {'timestamp': 1736421147, 'water_temperature': 26.16639025888128, 'ph_level': 8.36526267280038, 'turbidity': 17.46, 'dissolved_oxygen': 8.19}\n",
      "Sent: {'timestamp': 1736421152, 'water_temperature': 26.272493712714503, 'ph_level': 7.509580953015037, 'turbidity': 41.52, 'dissolved_oxygen': 9.99}\n",
      "Sent: {'timestamp': 1736421157, 'water_temperature': 27.260371131515218, 'ph_level': 7.683534215330908, 'turbidity': 49.98, 'dissolved_oxygen': 8.44}\n",
      "Sent: {'timestamp': 1736421162, 'water_temperature': 27.34387190781789, 'ph_level': 7.670573557987263, 'turbidity': 16.98, 'dissolved_oxygen': 8.77}\n",
      "Stopped producing messages.\n"
     ]
    }
   ],
   "source": [
    " # Kafka configuration\n",
    "kafka_topic = \"water_quality\"\n",
    "kafka_bootstrap_servers = [\"localhost:9092\"] \n",
    "\n",
    "# Create Kafka producer\n",
    "producer = KafkaProducer(\n",
    "    bootstrap_servers=kafka_bootstrap_servers,\n",
    "    value_serializer=lambda v: json.dumps(v).encode('utf-8')\n",
    ")\n",
    "\n",
    "print(f\"Producing messages to Kafka topic '{kafka_topic}'...\")\n",
    "\n",
    "try:\n",
    "    while True:\n",
    "        # Generate sensor data\n",
    "        sensor_data = generate_sensor_data()\n",
    "\n",
    "        # Publish sensor data to Kafka\n",
    "        producer.send(kafka_topic, sensor_data)\n",
    "\n",
    "        print(f\"Sent: {sensor_data}\")\n",
    "\n",
    "        # Wait for 1 second\n",
    "        time.sleep(1)\n",
    "except KeyboardInterrupt:\n",
    "    print(\"Stopped producing messages.\")\n",
    "finally:\n",
    "    producer.close()"
   ]
  }
 ],
 "metadata": {
  "kernelspec": {
   "display_name": "Python 3 (ipykernel)",
   "language": "python",
   "name": "python3"
  },
  "language_info": {
   "codemirror_mode": {
    "name": "ipython",
    "version": 3
   },
   "file_extension": ".py",
   "mimetype": "text/x-python",
   "name": "python",
   "nbconvert_exporter": "python",
   "pygments_lexer": "ipython3",
   "version": "3.10.12"
  }
 },
 "nbformat": 4,
 "nbformat_minor": 5
}
